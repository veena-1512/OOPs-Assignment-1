{
 "cells": [
  {
   "cell_type": "markdown",
   "id": "26a03f88-d34f-4525-bfc3-0c37038434b6",
   "metadata": {},
   "source": [
    "1. A class is a blueprint or template for creating objects.\n",
    " An object is an instance of a class. It is a tangible representation of a class, created using the class blueprint. Objects have their own unique data and can perform actions based on the methods defined in the class.\n",
    " \n",
    " For Example :- we want to model a class called \"Car.\" The Car class will have attributes like make, model, year, and color, as well as behaviors like starting the engine, accelerating, and stopping."
   ]
  },
  {
   "cell_type": "code",
   "execution_count": 8,
   "id": "6f5d05d2-8065-43d2-bd7c-06d755b14c35",
   "metadata": {},
   "outputs": [
    {
     "name": "stdout",
     "output_type": "stream",
     "text": [
      "<__main__.Car object at 0x7fa383700640>\n",
      "<__main__.Car object at 0x7fa383701990>\n"
     ]
    }
   ],
   "source": [
    "class Car:\n",
    "    def __init__(self, make, model, year, color):\n",
    "        self.make = make\n",
    "        self.model = model\n",
    "        self.year = year\n",
    "        self.color = color\n",
    "        self.engine_started = False\n",
    "    \n",
    "    def start_engine(self):\n",
    "        if not self.engine_started:\n",
    "            print(\"Engine started\")\n",
    "            self.engine_started = True\n",
    "        else:\n",
    "            print(\"Engine is already running\")\n",
    "    \n",
    "    def accelerate(self):\n",
    "        if self.engine_started:\n",
    "            print(\"Accelerating...\")\n",
    "        else:\n",
    "            print(\"Please start the engine first\")\n",
    "    \n",
    "    def stop_engine(self):\n",
    "        if self.engine_started:\n",
    "            print(\"Engine stopped\")\n",
    "            self.engine_started = False\n",
    "        else:\n",
    "            print(\"Engine is already off\")\n",
    "            my_car = Car(\"Toyota\", \"Camry\", 2023, \"Silver\")\n",
    "your_car = Car(\"Honda\", \"Accord\", 2022, \"Red\")\n",
    "print(my_car) \n",
    "print(your_car)"
   ]
  },
  {
   "cell_type": "markdown",
   "id": "b497b51b-4a7b-41ec-b3b3-0fce0cb8f313",
   "metadata": {},
   "source": [
    "2. The four pillars of OOPS are:-\n",
    "i. Encapsulation\n",
    "ii. Abstraction\n",
    "iii.Inheritance\n",
    "iv. Polymorphism\n",
    "\n"
   ]
  },
  {
   "cell_type": "markdown",
   "id": "65259968-9dd1-4d2f-aebd-9988c79b2e5f",
   "metadata": {},
   "source": [
    "3. The __init__() function is a special method in Python classes that is automatically called when an object is created from the class. It is also known as the constructor method. The primary purpose of the __init__() method is to initialize the attributes of an object by assigning initial values to them."
   ]
  },
  {
   "cell_type": "code",
   "execution_count": 4,
   "id": "d18a2868-0109-4649-a24c-e0f8e3c71efb",
   "metadata": {},
   "outputs": [
    {
     "name": "stdout",
     "output_type": "stream",
     "text": [
      "Aman\n",
      "30\n"
     ]
    }
   ],
   "source": [
    "class Person:\n",
    "    def __init__(self, name, age):\n",
    "        self.name = name\n",
    "        self.age = age\n",
    "    \n",
    "    def introduce(self):\n",
    "        print(f\"Hi, my name is {self.name} and I'm {self.age} years old.\")\n",
    "person1 = Person(\"Aman\", 25)\n",
    "person2 = Person(\"Jhon\", 30)\n",
    "\n",
    "print(person1.name) \n",
    "print(person2.age)"
   ]
  },
  {
   "cell_type": "code",
   "execution_count": null,
   "id": "bdb77040-6fc0-46ba-b0a8-b6cf29dae9b4",
   "metadata": {},
   "outputs": [
    {
     "name": "stdout",
     "output_type": "stream",
     "text": [
      "Hi, my name is Aman and I'm 25 years old.\n",
      "Hi, my name is Jhon and I'm 30 years old.\n"
     ]
    }
   ],
   "source": [
    "person1.introduce() \n",
    "person2.introduce() and I'm 25 years "
   ]
  },
  {
   "cell_type": "markdown",
   "id": "fe435629-f62f-4bdf-a70b-a9f9ae47fdce",
   "metadata": {},
   "source": [
    "4. self is used to access the instance attributes (variables) of the class. It allows the method to retrieve or modify the specific attributes of the object it belongs to. Without self, the method would not know which object's attributes to refer to."
   ]
  },
  {
   "cell_type": "code",
   "execution_count": 9,
   "id": "0cf7b24b-e6fe-48f6-8fa3-21a61e255b1e",
   "metadata": {},
   "outputs": [
    {
     "name": "stdout",
     "output_type": "stream",
     "text": [
      "15\n"
     ]
    }
   ],
   "source": [
    "class Rectangle:\n",
    "    def __init__(self, width, height):\n",
    "        self.width = width\n",
    "        self.height = height\n",
    "    \n",
    "    def calculate_area(self):\n",
    "        return self.width * self.height\n",
    "rect = Rectangle(5, 3)\n",
    "area = rect.calculate_area()\n",
    "print(area)"
   ]
  },
  {
   "cell_type": "markdown",
   "id": "71a1b5e0-44c2-4e74-a695-7d8e941065a9",
   "metadata": {},
   "source": [
    "5. Inheritance is a fundamental concept in object-oriented programming (OOP) where a class inherits properties and behaviors from another class. The class that is being inherited from is called the parent class or base class, and the class that inherits from it is called the child class or derived class.\n",
    "\n",
    "There are several types of inheritance in OOP:-\n",
    "\n",
    "i.Single Inheritance:- a child class inherits from a single parent class. It forms a simple hierarchy between classes."
   ]
  },
  {
   "cell_type": "code",
   "execution_count": 6,
   "id": "004d33f2-5573-4c05-9040-13c0c46f7575",
   "metadata": {},
   "outputs": [],
   "source": [
    "##Example:_\n",
    "\n",
    "class Animal:\n",
    "    def eat(self):\n",
    "        print(\"Animal is eating.\")\n",
    "        \n",
    "        class Dog(Animal):\n",
    "            def bark(self):\n",
    "                print(\"Dog is barking.\")\n"
   ]
  },
  {
   "cell_type": "markdown",
   "id": "239da3bb-fcde-41e0-9107-f2ccb61a0243",
   "metadata": {},
   "source": [
    "ii. Multiple Inheritance :-Multiple inheritance allows a child class to inherit from multiple parent classes. The child class can access members from all the parent classes."
   ]
  },
  {
   "cell_type": "code",
   "execution_count": 8,
   "id": "fa17d046-7fd2-4d3d-be3d-8c10bc73b6bc",
   "metadata": {},
   "outputs": [],
   "source": [
    "#Example:-\n",
    "class Flyer:\n",
    "    def fly(self):\n",
    "        print(\"Flying...\")\n",
    "\n",
    "class Swimmer:\n",
    "    def swim(self):\n",
    "        print(\"Swimming...\")\n",
    "\n",
    "class Bird(Flyer, Swimmer):\n",
    "    def quack(self):\n",
    "        print(\"Quack!\")"
   ]
  },
  {
   "cell_type": "markdown",
   "id": "dbe3250c-ea59-454c-9226-ed18dd6b089b",
   "metadata": {},
   "source": [
    "iii. Multilevel Inheritance:- Multilevel inheritance involves a chain of inheritance, where a child class becomes the parent class for another child class"
   ]
  },
  {
   "cell_type": "code",
   "execution_count": 10,
   "id": "d0eacaa8-eee7-401d-a936-19518f610694",
   "metadata": {},
   "outputs": [],
   "source": [
    "## Example\n",
    "class Vehicle:\n",
    "    def move(self):\n",
    "        print(\"Moving...\")\n",
    "\n",
    "class Car(Vehicle):\n",
    "    def drive(self):\n",
    "        print(\"Car is driving.\")\n",
    "\n",
    "class SportsCar(Car):\n",
    "    def accelerate(self):\n",
    "        print(\"Sports car is accelerating.\")"
   ]
  },
  {
   "cell_type": "markdown",
   "id": "8b3ebcfd-e768-4a9c-a9f0-ad91ee5f8e14",
   "metadata": {},
   "source": [
    "iv.Hierarchical Inheritance:- hierarchical inheritance involves multiple child classes inheriting from a single parent class."
   ]
  },
  {
   "cell_type": "code",
   "execution_count": 11,
   "id": "6a8587a7-e208-40da-a8d4-6f3db24a7c64",
   "metadata": {},
   "outputs": [],
   "source": [
    "## Example\n",
    "class Shape:\n",
    "    def draw(self):\n",
    "        print(\"Drawing shape...\")\n",
    "\n",
    "class Circle(Shape):\n",
    "    def draw(self):\n",
    "        print(\"Drawing circle...\")\n",
    "\n",
    "class Rectangle(Shape):\n",
    "    def draw(self):\n",
    "        print(\"Drawing rectangle...\")"
   ]
  },
  {
   "cell_type": "code",
   "execution_count": null,
   "id": "06f3cfcd-81ab-4107-8a0a-93fe3490c267",
   "metadata": {},
   "outputs": [],
   "source": []
  }
 ],
 "metadata": {
  "kernelspec": {
   "display_name": "Python 3 (ipykernel)",
   "language": "python",
   "name": "python3"
  },
  "language_info": {
   "codemirror_mode": {
    "name": "ipython",
    "version": 3
   },
   "file_extension": ".py",
   "mimetype": "text/x-python",
   "name": "python",
   "nbconvert_exporter": "python",
   "pygments_lexer": "ipython3",
   "version": "3.10.8"
  }
 },
 "nbformat": 4,
 "nbformat_minor": 5
}
